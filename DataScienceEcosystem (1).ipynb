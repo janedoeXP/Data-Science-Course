{
 "cells": [
  {
   "cell_type": "markdown",
   "id": "ee244620-a502-4ba7-9c5c-134435bc8f6f",
   "metadata": {},
   "source": [
    "# Data Science Tools and Ecosystem"
   ]
  },
  {
   "cell_type": "markdown",
   "id": "7120476d-9322-4edf-9612-79190efe1955",
   "metadata": {},
   "source": [
    "**Objectives:**\n",
    "- Popular Data Science Languages\n",
    "- Commonly Used Data Science Libraries \n",
    "- Data Science Tools\n",
    "- Evaluating Arithmetic Expressions"
   ]
  },
  {
   "cell_type": "markdown",
   "id": "fb0fd268-a615-4a0b-846b-688e4d95e9b5",
   "metadata": {},
   "source": [
    "In this notebook, Data Science Tools and Ecosystem are summarized."
   ]
  },
  {
   "cell_type": "markdown",
   "id": "84555552-19eb-4aa9-a27f-4d7b191426be",
   "metadata": {},
   "source": [
    "Some of the popular languages that Data Scientists use are:"
   ]
  },
  {
   "cell_type": "markdown",
   "id": "d1fab154-df10-4543-930e-78cf1068a9df",
   "metadata": {},
   "source": [
    "1. R\n",
    "2. Python\n",
    "3. Julia"
   ]
  },
  {
   "cell_type": "markdown",
   "id": "b751e9a3-46c7-4687-93d2-aa5700cc7110",
   "metadata": {},
   "source": [
    "Some of the commonly used libraries used by Data Scientists include:"
   ]
  },
  {
   "cell_type": "markdown",
   "id": "dd6a16fe-d215-4211-9a3a-5d26a896ec7e",
   "metadata": {
    "tags": []
   },
   "source": [
    "1. Pandas\n",
    "2. NumPy\n",
    "3. SciPy"
   ]
  },
  {
   "cell_type": "markdown",
   "id": "2d7cb9e7-8f90-45c5-9231-01ce5e06e1ac",
   "metadata": {},
   "source": [
    "|Data Science Tools|\n",
    "|------------------|\n",
    "|RStudio|\n",
    "|TensorFlow|\n",
    "|Apache Spark|"
   ]
  },
  {
   "cell_type": "markdown",
   "id": "46ae9d43-97e1-4e30-b1a3-f5fd8979e6c4",
   "metadata": {
    "tags": []
   },
   "source": [
    "### Below are a few examples of evaluating arithmetic expressions in Python"
   ]
  },
  {
   "cell_type": "code",
   "execution_count": 3,
   "id": "c3fcd232-0199-412d-9ac8-833072cace2f",
   "metadata": {
    "tags": []
   },
   "outputs": [
    {
     "data": {
      "text/plain": [
       "17"
      ]
     },
     "execution_count": 3,
     "metadata": {},
     "output_type": "execute_result"
    }
   ],
   "source": [
    "# This a simple arithmetic expression to mutiply then add integers\n",
    "(3*4)+5"
   ]
  },
  {
   "cell_type": "code",
   "execution_count": 4,
   "id": "4fc2d111-025c-4519-876f-f14dc582cd34",
   "metadata": {
    "tags": []
   },
   "outputs": [
    {
     "data": {
      "text/plain": [
       "3.3333333333333335"
      ]
     },
     "execution_count": 4,
     "metadata": {},
     "output_type": "execute_result"
    }
   ],
   "source": [
    "# This will convert 200 minutes to hours by diving by 60\n",
    "200/60"
   ]
  },
  {
   "cell_type": "markdown",
   "id": "d117d233-5d99-4d43-9694-9daf09fbaac0",
   "metadata": {},
   "source": [
    "### Author:\n",
    "Xheni Pashollari"
   ]
  },
  {
   "cell_type": "code",
   "execution_count": null,
   "id": "d3dc8d2c-cbec-4f60-bfa3-893c7f27ccf9",
   "metadata": {},
   "outputs": [],
   "source": []
  }
 ],
 "metadata": {
  "kernelspec": {
   "display_name": "Python",
   "language": "python",
   "name": "conda-env-python-py"
  },
  "language_info": {
   "codemirror_mode": {
    "name": "ipython",
    "version": 3
   },
   "file_extension": ".py",
   "mimetype": "text/x-python",
   "name": "python",
   "nbconvert_exporter": "python",
   "pygments_lexer": "ipython3",
   "version": "3.7.12"
  }
 },
 "nbformat": 4,
 "nbformat_minor": 5
}
